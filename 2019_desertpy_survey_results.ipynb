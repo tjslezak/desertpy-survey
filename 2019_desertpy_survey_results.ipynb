{
  "nbformat": 4,
  "nbformat_minor": 0,
  "metadata": {
    "colab": {
      "name": "2019_desertpy_survey_results.ipynb",
      "version": "0.3.2",
      "provenance": [],
      "collapsed_sections": [],
      "toc_visible": true,
      "include_colab_link": true
    },
    "kernelspec": {
      "name": "python3",
      "display_name": "Python 3"
    }
  },
  "cells": [
    {
      "cell_type": "markdown",
      "metadata": {
        "id": "view-in-github",
        "colab_type": "text"
      },
      "source": [
        "<a href=\"https://colab.research.google.com/github/tjslezak/desertpy-survey/blob/master/2019_desertpy_survey_results.ipynb\" target=\"_parent\"><img src=\"https://colab.research.google.com/assets/colab-badge.svg\" alt=\"Open In Colab\"/></a>"
      ]
    },
    {
      "cell_type": "markdown",
      "metadata": {
        "id": "RRcFve_lhI08",
        "colab_type": "text"
      },
      "source": [
        "# 2019 DesertPy Survey Results"
      ]
    },
    {
      "cell_type": "code",
      "metadata": {
        "id": "tCUwHRqUg6uY",
        "colab_type": "code",
        "colab": {}
      },
      "source": [
        "import pandas as pd"
      ],
      "execution_count": 0,
      "outputs": []
    },
    {
      "cell_type": "code",
      "metadata": {
        "id": "FdfD6PL0iIsp",
        "colab_type": "code",
        "outputId": "bbfe7a7b-f57d-4c09-c5a0-fa65c13ceb6c",
        "colab": {
          "base_uri": "https://localhost:8080/",
          "height": 746
        }
      },
      "source": [
        "columns = [\n",
        "    # Important Questions\n",
        "    # ===================\n",
        "    'Are you new to Python?',\n",
        "    'When was the last time you attended a DesertPy Meetup?',\n",
        "    \n",
        "    # Less Important Questions\n",
        "    # ========================\n",
        "     'What presentation style would you like to see MOST during a weekday meetup?',\n",
        "     'What part of the Phoenix area is most convenient for you to attend a meetup?',\n",
        "     'Do you know about the the Saturday morning OpenHacks?',\n",
        "     'What topics are you interested in seeing at Meetups?',\n",
        "     'What can we do to help you get started?',\n",
        "     'Do you feel the DesertPy Meetup group are Diverse?',\n",
        "     'On a scale, how Diverse do you feel DesertPy is?',\n",
        "     'Do you feel the DesertPy Meetup group is Inclusive?',\n",
        "     'On a scale, how Inclusive do you feel DesertPy is?',\n",
        "     'What do you feel the DesertPy Meetup group could do to be more inclusive?',\n",
        "     'Do you feel the DesertPy community and members are open and welcoming?',\n",
        "     'Do you feel comfortable with asking questions or for help from the members and/or organizers?',\n",
        "     'Would you like to present a talk at DesertPy?',\n",
        "     'Would you like to give a short lightning talk, or a longer deep-dive on the presenation?',\n",
        "     'What would you like to give a talk about?',\n",
        "     'Can we reach out to you via email in regards to your talk? If so, please provide your email.',\n",
        "     'Would you attend a Saturday morning OpenHack?',\n",
        "     'What actions we can take to improve diversity at our events?',\n",
        "     'Is Python the main language you use for your current projects?',\n",
        "     'What other language(s) do you use?', \n",
        "     'What do you use Python for?',\n",
        "     'What do you use Python for the most?',\n",
        "     'Which version of Python do you use the most?',\n",
        "     'What do you typically use to upgrade your Python version?',\n",
        "     'What framework(s) do you use in addition to Python?',\n",
        "     'What additional technology(s) do you use in addition to Python?',\n",
        "     'What cloud platform(s) do you use?',\n",
        "     'What editor(s)/IDE(s) have you considered for use in your Python development?',\n",
        "     'Can we email you about', \n",
        "     'If you are new to Python',\n",
        "     'Is it easier for you to attend on the weekends?'\n",
        "    \n",
        "    # Not Important Questions\n",
        "    # =======================\n",
        "#      'Timestamp',\n",
        "#      'What Day of the week work best for you to attend a meetup?',\n",
        "#      'What start time is easiest for you to make during the week?',\n",
        "#      'What start time is easiest for you to make during the week? [Monday]',\n",
        "#      'What start time is easiest for you to make during the week? [Tuesday]',\n",
        "#      'What start time is easiest for you to make during the week? [Wedendsay]',\n",
        "#      'What start time is easiest for you to make during the week? [Thursday]',\n",
        "#      'What start time is easiest for you to make during the week? [Friday]',\n",
        "#      'Unnamed: 49',\n",
        "#      'Unnamed: 47', \n",
        "#      'Unnamed: 31',\n",
        "#      'What start time is easiest for you to make during the week? [Sunday]',\n",
        "#      'What start time is easiest for you to make during the week? [Saturday]',\n",
        "#      'Can we email you about presenting?',\n",
        "#      'Let us know your email and we will reach out to you about presenting.',\n",
        "#      'Unnamed: 36',\n",
        "#      'What would you like to give a talk about?.1', 'Email Address',\n",
        "#      'Provide us with you email so that we may reach out to you about presenting at DesertPy.',\n",
        "    \n",
        "]\n",
        "\n",
        "\n",
        "df = pd.read_csv(\"DesertPy_Survey.csv\", usecols=columns)\n",
        "\n",
        "df.head()"
      ],
      "execution_count": 51,
      "outputs": [
        {
          "output_type": "execute_result",
          "data": {
            "text/html": [
              "<div>\n",
              "<style scoped>\n",
              "    .dataframe tbody tr th:only-of-type {\n",
              "        vertical-align: middle;\n",
              "    }\n",
              "\n",
              "    .dataframe tbody tr th {\n",
              "        vertical-align: top;\n",
              "    }\n",
              "\n",
              "    .dataframe thead th {\n",
              "        text-align: right;\n",
              "    }\n",
              "</style>\n",
              "<table border=\"1\" class=\"dataframe\">\n",
              "  <thead>\n",
              "    <tr style=\"text-align: right;\">\n",
              "      <th></th>\n",
              "      <th>What presentation style would you like to see MOST during a weekday meetup?</th>\n",
              "      <th>What part of the Phoenix area is most convenient for you to attend a meetup?</th>\n",
              "      <th>When was the last time you attended a DesertPy Meetup?</th>\n",
              "      <th>Do you know about the the Saturday morning OpenHacks?</th>\n",
              "      <th>What topics are you interested in seeing at Meetups?</th>\n",
              "      <th>Are you new to Python?</th>\n",
              "      <th>What can we do to help you get started?</th>\n",
              "      <th>Do you feel the DesertPy Meetup group are Diverse?</th>\n",
              "      <th>On a scale, how Diverse do you feel DesertPy is?</th>\n",
              "      <th>Do you feel the DesertPy Meetup group is Inclusive?</th>\n",
              "      <th>...</th>\n",
              "      <th>What do you use Python for the most?</th>\n",
              "      <th>Which version of Python do you use the most?</th>\n",
              "      <th>What do you typically use to upgrade your Python version?</th>\n",
              "      <th>What framework(s) do you use in addition to Python?</th>\n",
              "      <th>What additional technology(s) do you use in addition to Python?</th>\n",
              "      <th>What cloud platform(s) do you use?</th>\n",
              "      <th>What editor(s)/IDE(s) have you considered for use in your Python development?</th>\n",
              "      <th>Can we email you about</th>\n",
              "      <th>If you are new to Python</th>\n",
              "      <th>Is it easier for you to attend on the weekends?</th>\n",
              "    </tr>\n",
              "  </thead>\n",
              "  <tbody>\n",
              "    <tr>\n",
              "      <th>0</th>\n",
              "      <td>Lightning Talks (3 to 4 presentations, 15 min ...</td>\n",
              "      <td>Downtown Phoenix</td>\n",
              "      <td>Over 1 year ago</td>\n",
              "      <td>No</td>\n",
              "      <td>Python Basics, Standard Library, Built-ins and...</td>\n",
              "      <td>Yes</td>\n",
              "      <td>Identified Python tutors/mentors at the Saturd...</td>\n",
              "      <td>NaN</td>\n",
              "      <td>NaN</td>\n",
              "      <td>Yes</td>\n",
              "      <td>...</td>\n",
              "      <td>NaN</td>\n",
              "      <td>NaN</td>\n",
              "      <td>NaN</td>\n",
              "      <td>NaN</td>\n",
              "      <td>NaN</td>\n",
              "      <td>NaN</td>\n",
              "      <td>NaN</td>\n",
              "      <td>NaN</td>\n",
              "      <td>NaN</td>\n",
              "      <td>NaN</td>\n",
              "    </tr>\n",
              "    <tr>\n",
              "      <th>1</th>\n",
              "      <td>Deep Dive (Single topic, about 60 min long)</td>\n",
              "      <td>Downtown Phoenix</td>\n",
              "      <td>3 to 6 months</td>\n",
              "      <td>Yes</td>\n",
              "      <td>Data and Analytics (Pandas, Numpy, Data Scienc...</td>\n",
              "      <td>No</td>\n",
              "      <td>NaN</td>\n",
              "      <td>NaN</td>\n",
              "      <td>NaN</td>\n",
              "      <td>Yes</td>\n",
              "      <td>...</td>\n",
              "      <td>NaN</td>\n",
              "      <td>NaN</td>\n",
              "      <td>NaN</td>\n",
              "      <td>NaN</td>\n",
              "      <td>NaN</td>\n",
              "      <td>NaN</td>\n",
              "      <td>NaN</td>\n",
              "      <td>NaN</td>\n",
              "      <td>NaN</td>\n",
              "      <td>NaN</td>\n",
              "    </tr>\n",
              "    <tr>\n",
              "      <th>2</th>\n",
              "      <td>Deep Dive (Single topic, about 60 min long)</td>\n",
              "      <td>Scottsdale</td>\n",
              "      <td>Over 1 year ago</td>\n",
              "      <td>No</td>\n",
              "      <td>Cloud Technology (AWS, Google Cloud, Azure, Di...</td>\n",
              "      <td>Yes</td>\n",
              "      <td>Topics on Python Basics  at the monthly Wed ev...</td>\n",
              "      <td>NaN</td>\n",
              "      <td>NaN</td>\n",
              "      <td>Yes</td>\n",
              "      <td>...</td>\n",
              "      <td>NaN</td>\n",
              "      <td>NaN</td>\n",
              "      <td>NaN</td>\n",
              "      <td>NaN</td>\n",
              "      <td>NaN</td>\n",
              "      <td>NaN</td>\n",
              "      <td>NaN</td>\n",
              "      <td>NaN</td>\n",
              "      <td>NaN</td>\n",
              "      <td>NaN</td>\n",
              "    </tr>\n",
              "    <tr>\n",
              "      <th>3</th>\n",
              "      <td>Lightning Talks (3 to 4 presentations, 15 min ...</td>\n",
              "      <td>Downtown Phoenix</td>\n",
              "      <td>3 to 6 months</td>\n",
              "      <td>Yes</td>\n",
              "      <td>Web Development (Django, Flask, Sanic, ...), M...</td>\n",
              "      <td>No</td>\n",
              "      <td>NaN</td>\n",
              "      <td>NaN</td>\n",
              "      <td>NaN</td>\n",
              "      <td>Yes</td>\n",
              "      <td>...</td>\n",
              "      <td>NaN</td>\n",
              "      <td>NaN</td>\n",
              "      <td>NaN</td>\n",
              "      <td>NaN</td>\n",
              "      <td>NaN</td>\n",
              "      <td>NaN</td>\n",
              "      <td>NaN</td>\n",
              "      <td>NaN</td>\n",
              "      <td>NaN</td>\n",
              "      <td>NaN</td>\n",
              "    </tr>\n",
              "    <tr>\n",
              "      <th>4</th>\n",
              "      <td>Lightning Talks (3 to 4 presentations, 15 min ...</td>\n",
              "      <td>Scottsdale</td>\n",
              "      <td>1 to 3 months</td>\n",
              "      <td>Yes</td>\n",
              "      <td>GUI (Qt, WxWindows, GTK, Kivy ...), Data and A...</td>\n",
              "      <td>No</td>\n",
              "      <td>NaN</td>\n",
              "      <td>NaN</td>\n",
              "      <td>NaN</td>\n",
              "      <td>Yes</td>\n",
              "      <td>...</td>\n",
              "      <td>NaN</td>\n",
              "      <td>NaN</td>\n",
              "      <td>NaN</td>\n",
              "      <td>NaN</td>\n",
              "      <td>NaN</td>\n",
              "      <td>NaN</td>\n",
              "      <td>NaN</td>\n",
              "      <td>NaN</td>\n",
              "      <td>NaN</td>\n",
              "      <td>NaN</td>\n",
              "    </tr>\n",
              "  </tbody>\n",
              "</table>\n",
              "<p>5 rows × 33 columns</p>\n",
              "</div>"
            ],
            "text/plain": [
              "  What presentation style would you like to see MOST during a weekday meetup?  \\\n",
              "0  Lightning Talks (3 to 4 presentations, 15 min ...                            \n",
              "1        Deep Dive (Single topic, about 60 min long)                            \n",
              "2        Deep Dive (Single topic, about 60 min long)                            \n",
              "3  Lightning Talks (3 to 4 presentations, 15 min ...                            \n",
              "4  Lightning Talks (3 to 4 presentations, 15 min ...                            \n",
              "\n",
              "  What part of the Phoenix area is most convenient for you to attend a meetup?  \\\n",
              "0                                   Downtown Phoenix                             \n",
              "1                                   Downtown Phoenix                             \n",
              "2                                         Scottsdale                             \n",
              "3                                   Downtown Phoenix                             \n",
              "4                                         Scottsdale                             \n",
              "\n",
              "  When was the last time you attended a DesertPy Meetup?  \\\n",
              "0                                    Over 1 year ago       \n",
              "1                                      3 to 6 months       \n",
              "2                                    Over 1 year ago       \n",
              "3                                      3 to 6 months       \n",
              "4                                      1 to 3 months       \n",
              "\n",
              "  Do you know about the the Saturday morning OpenHacks?  \\\n",
              "0                                                 No      \n",
              "1                                                Yes      \n",
              "2                                                 No      \n",
              "3                                                Yes      \n",
              "4                                                Yes      \n",
              "\n",
              "  What topics are you interested in seeing at Meetups? Are you new to Python?  \\\n",
              "0  Python Basics, Standard Library, Built-ins and...                      Yes   \n",
              "1  Data and Analytics (Pandas, Numpy, Data Scienc...                       No   \n",
              "2  Cloud Technology (AWS, Google Cloud, Azure, Di...                      Yes   \n",
              "3  Web Development (Django, Flask, Sanic, ...), M...                       No   \n",
              "4  GUI (Qt, WxWindows, GTK, Kivy ...), Data and A...                       No   \n",
              "\n",
              "             What can we do to help you get started?  \\\n",
              "0  Identified Python tutors/mentors at the Saturd...   \n",
              "1                                                NaN   \n",
              "2  Topics on Python Basics  at the monthly Wed ev...   \n",
              "3                                                NaN   \n",
              "4                                                NaN   \n",
              "\n",
              "   Do you feel the DesertPy Meetup group are Diverse?  \\\n",
              "0                                                NaN    \n",
              "1                                                NaN    \n",
              "2                                                NaN    \n",
              "3                                                NaN    \n",
              "4                                                NaN    \n",
              "\n",
              "   On a scale, how Diverse do you feel DesertPy is?  \\\n",
              "0                                               NaN   \n",
              "1                                               NaN   \n",
              "2                                               NaN   \n",
              "3                                               NaN   \n",
              "4                                               NaN   \n",
              "\n",
              "  Do you feel the DesertPy Meetup group is Inclusive?  ...  \\\n",
              "0                                                Yes   ...   \n",
              "1                                                Yes   ...   \n",
              "2                                                Yes   ...   \n",
              "3                                                Yes   ...   \n",
              "4                                                Yes   ...   \n",
              "\n",
              "   What do you use Python for the most?  \\\n",
              "0                                   NaN   \n",
              "1                                   NaN   \n",
              "2                                   NaN   \n",
              "3                                   NaN   \n",
              "4                                   NaN   \n",
              "\n",
              "  Which version of Python do you use the most?  \\\n",
              "0                                          NaN   \n",
              "1                                          NaN   \n",
              "2                                          NaN   \n",
              "3                                          NaN   \n",
              "4                                          NaN   \n",
              "\n",
              "  What do you typically use to upgrade your Python version?  \\\n",
              "0                                                NaN          \n",
              "1                                                NaN          \n",
              "2                                                NaN          \n",
              "3                                                NaN          \n",
              "4                                                NaN          \n",
              "\n",
              "  What framework(s) do you use in addition to Python?  \\\n",
              "0                                                NaN    \n",
              "1                                                NaN    \n",
              "2                                                NaN    \n",
              "3                                                NaN    \n",
              "4                                                NaN    \n",
              "\n",
              "  What additional technology(s) do you use in addition to Python?  \\\n",
              "0                                                NaN                \n",
              "1                                                NaN                \n",
              "2                                                NaN                \n",
              "3                                                NaN                \n",
              "4                                                NaN                \n",
              "\n",
              "   What cloud platform(s) do you use?  \\\n",
              "0                                 NaN   \n",
              "1                                 NaN   \n",
              "2                                 NaN   \n",
              "3                                 NaN   \n",
              "4                                 NaN   \n",
              "\n",
              "   What editor(s)/IDE(s) have you considered for use in your Python development?  \\\n",
              "0                                                NaN                               \n",
              "1                                                NaN                               \n",
              "2                                                NaN                               \n",
              "3                                                NaN                               \n",
              "4                                                NaN                               \n",
              "\n",
              "   Can we email you about If you are new to Python  \\\n",
              "0                     NaN                      NaN   \n",
              "1                     NaN                      NaN   \n",
              "2                     NaN                      NaN   \n",
              "3                     NaN                      NaN   \n",
              "4                     NaN                      NaN   \n",
              "\n",
              "  Is it easier for you to attend on the weekends?  \n",
              "0                                             NaN  \n",
              "1                                             NaN  \n",
              "2                                             NaN  \n",
              "3                                             NaN  \n",
              "4                                             NaN  \n",
              "\n",
              "[5 rows x 33 columns]"
            ]
          },
          "metadata": {
            "tags": []
          },
          "execution_count": 51
        }
      ]
    },
    {
      "cell_type": "markdown",
      "metadata": {
        "id": "bdsbIWqAmbMR",
        "colab_type": "text"
      },
      "source": [
        "**Check if a column has all NaN values and remove in the above columns list.**\n",
        "\n",
        "This happens when editing questions on the survey, sometimes they stick around."
      ]
    },
    {
      "cell_type": "code",
      "metadata": {
        "id": "S07Fz0limSbK",
        "colab_type": "code",
        "outputId": "6747a0e9-84d8-47de-a54c-6000dca22b7f",
        "colab": {
          "base_uri": "https://localhost:8080/",
          "height": 323
        }
      },
      "source": [
        "df.columns[df.isna().all()].tolist()"
      ],
      "execution_count": 52,
      "outputs": [
        {
          "output_type": "execute_result",
          "data": {
            "text/plain": [
              "['Do you feel the DesertPy Meetup group are Diverse?',\n",
              " 'On a scale, how Diverse do you feel DesertPy is?',\n",
              " 'Would you like to give a short lightning talk, or a longer deep-dive on the presenation?',\n",
              " 'What would you like to give a talk about?',\n",
              " 'Can we reach out to you via email in regards to your talk? If so, please provide your email.',\n",
              " 'Is Python the main language you use for your current projects?',\n",
              " 'What other language(s) do you use?',\n",
              " 'What do you use Python for?',\n",
              " 'What do you use Python for the most?',\n",
              " 'Which version of Python do you use the most?',\n",
              " 'What do you typically use to upgrade your Python version?',\n",
              " 'What framework(s) do you use in addition to Python?',\n",
              " 'What additional technology(s) do you use in addition to Python?',\n",
              " 'What cloud platform(s) do you use?',\n",
              " 'What editor(s)/IDE(s) have you considered for use in your Python development?',\n",
              " 'Can we email you about',\n",
              " 'If you are new to Python',\n",
              " 'Is it easier for you to attend on the weekends?']"
            ]
          },
          "metadata": {
            "tags": []
          },
          "execution_count": 52
        }
      ]
    },
    {
      "cell_type": "code",
      "metadata": {
        "id": "72OsfSaSRA3f",
        "colab_type": "code",
        "colab": {
          "base_uri": "https://localhost:8080/",
          "height": 595
        },
        "outputId": "9f648c5d-b920-409f-dfea-6a813aa2719f"
      },
      "source": [
        "df.nunique()"
      ],
      "execution_count": 53,
      "outputs": [
        {
          "output_type": "execute_result",
          "data": {
            "text/plain": [
              "What presentation style would you like to see MOST during a weekday meetup?                       2\n",
              "What part of the Phoenix area is most convenient for you to attend a meetup?                      6\n",
              "When was the last time you attended a DesertPy Meetup?                                            5\n",
              "Do you know about the the Saturday morning OpenHacks?                                             2\n",
              "What topics are you interested in seeing at Meetups?                                             97\n",
              "Are you new to Python?                                                                            2\n",
              "What can we do to help you get started?                                                           9\n",
              "Do you feel the DesertPy Meetup group are Diverse?                                                0\n",
              "On a scale, how Diverse do you feel DesertPy is?                                                  0\n",
              "Do you feel the DesertPy Meetup group is Inclusive?                                               2\n",
              "On a scale, how Inclusive do you feel DesertPy is?                                                6\n",
              "What do you feel the DesertPy Meetup group could do to be more inclusive?                        26\n",
              "Do you feel the DesertPy community and members are open and welcoming?                            2\n",
              "Do you feel comfortable with asking questions or for help from the members and/or organizers?     2\n",
              "Would you like to present a talk at DesertPy?                                                     2\n",
              "Would you like to give a short lightning talk, or a longer deep-dive on the presenation?          0\n",
              "What would you like to give a talk about?                                                         0\n",
              "Can we reach out to you via email in regards to your talk? If so, please provide your email.      0\n",
              "Would you attend a Saturday morning OpenHack?                                                     3\n",
              "What actions we can take to improve diversity at our events?                                     23\n",
              "Is Python the main language you use for your current projects?                                    0\n",
              "What other language(s) do you use?                                                                0\n",
              "What do you use Python for?                                                                       0\n",
              "What do you use Python for the most?                                                              0\n",
              "Which version of Python do you use the most?                                                      0\n",
              "What do you typically use to upgrade your Python version?                                         0\n",
              "What framework(s) do you use in addition to Python?                                               0\n",
              "What additional technology(s) do you use in addition to Python?                                   0\n",
              "What cloud platform(s) do you use?                                                                0\n",
              "What editor(s)/IDE(s) have you considered for use in your Python development?                     0\n",
              "Can we email you about                                                                            0\n",
              "If you are new to Python                                                                          0\n",
              "Is it easier for you to attend on the weekends?                                                   0\n",
              "dtype: int64"
            ]
          },
          "metadata": {
            "tags": []
          },
          "execution_count": 53
        }
      ]
    },
    {
      "cell_type": "markdown",
      "metadata": {
        "id": "PjDCnn6fRl9O",
        "colab_type": "text"
      },
      "source": [
        "Remove columns without any values"
      ]
    },
    {
      "cell_type": "code",
      "metadata": {
        "id": "tuq3h6yrREKJ",
        "colab_type": "code",
        "colab": {}
      },
      "source": [
        "to_drop = []\n",
        "for col, val in df.items():\n",
        "    if df[col].nunique() == 0:\n",
        "        to_drop.append(col)\n",
        "\n",
        "df.drop(columns=to_drop, inplace=True)"
      ],
      "execution_count": 0,
      "outputs": []
    },
    {
      "cell_type": "code",
      "metadata": {
        "id": "w_ZSY-WyV9TD",
        "colab_type": "code",
        "colab": {
          "base_uri": "https://localhost:8080/",
          "height": 289
        },
        "outputId": "ae0270eb-80c5-466c-af9f-69aa8dd8dac6"
      },
      "source": [
        "df.nunique()"
      ],
      "execution_count": 55,
      "outputs": [
        {
          "output_type": "execute_result",
          "data": {
            "text/plain": [
              "What presentation style would you like to see MOST during a weekday meetup?                       2\n",
              "What part of the Phoenix area is most convenient for you to attend a meetup?                      6\n",
              "When was the last time you attended a DesertPy Meetup?                                            5\n",
              "Do you know about the the Saturday morning OpenHacks?                                             2\n",
              "What topics are you interested in seeing at Meetups?                                             97\n",
              "Are you new to Python?                                                                            2\n",
              "What can we do to help you get started?                                                           9\n",
              "Do you feel the DesertPy Meetup group is Inclusive?                                               2\n",
              "On a scale, how Inclusive do you feel DesertPy is?                                                6\n",
              "What do you feel the DesertPy Meetup group could do to be more inclusive?                        26\n",
              "Do you feel the DesertPy community and members are open and welcoming?                            2\n",
              "Do you feel comfortable with asking questions or for help from the members and/or organizers?     2\n",
              "Would you like to present a talk at DesertPy?                                                     2\n",
              "Would you attend a Saturday morning OpenHack?                                                     3\n",
              "What actions we can take to improve diversity at our events?                                     23\n",
              "dtype: int64"
            ]
          },
          "metadata": {
            "tags": []
          },
          "execution_count": 55
        }
      ]
    },
    {
      "cell_type": "code",
      "metadata": {
        "id": "klLJitRBVFEa",
        "colab_type": "code",
        "colab": {}
      },
      "source": [
        "df.columns = ['presentation_style', 'location', 'last_attend', 'openhack_knowledge', 'interested_topics', 'new_to_python', 'howcanwehelp', 'inclusive', 'inclusivity', 'more_inclusive?', 'open_and_welcoming?', 'comfortable', 'present?', 'openhack_attend?', 'howimprovediversity']"
      ],
      "execution_count": 0,
      "outputs": []
    },
    {
      "cell_type": "code",
      "metadata": {
        "id": "MmNHrOyJRIt2",
        "colab_type": "code",
        "colab": {
          "base_uri": "https://localhost:8080/",
          "height": 289
        },
        "outputId": "47ce2c3d-497c-40c0-e395-0017beefa764"
      },
      "source": [
        "df.nunique()"
      ],
      "execution_count": 57,
      "outputs": [
        {
          "output_type": "execute_result",
          "data": {
            "text/plain": [
              "presentation_style      2\n",
              "location                6\n",
              "last_attend             5\n",
              "openhack_knowledge      2\n",
              "interested_topics      97\n",
              "new_to_python           2\n",
              "howcanwehelp            9\n",
              "inclusive               2\n",
              "inclusivity             6\n",
              "more_inclusive?        26\n",
              "open_and_welcoming?     2\n",
              "comfortable             2\n",
              "present?                2\n",
              "openhack_attend?        3\n",
              "howimprovediversity    23\n",
              "dtype: int64"
            ]
          },
          "metadata": {
            "tags": []
          },
          "execution_count": 57
        }
      ]
    },
    {
      "cell_type": "code",
      "metadata": {
        "id": "sI914dwGU2AW",
        "colab_type": "code",
        "colab": {}
      },
      "source": [
        "df['presentation_style'].replace({'Deep Dive (Single topic, about 60 min long)': 'Deep Dive', 'Lightning Talks (3 to 4 presentations, 15 min to 20 min each)': 'Lightning Talks'}, inplace=True)"
      ],
      "execution_count": 0,
      "outputs": []
    },
    {
      "cell_type": "code",
      "metadata": {
        "id": "KVVyJIPQRwOc",
        "colab_type": "code",
        "colab": {}
      },
      "source": [
        "active = df[df.last_attend.isin(['1 to 3 months', '3 to 6 months'])]\n",
        "inactive = df[df.last_attend.isin(['6 to 12 months', 'Over 1 year ago'])]\n",
        "never = df[df.last_attend.isin(['Never'])]"
      ],
      "execution_count": 0,
      "outputs": []
    },
    {
      "cell_type": "code",
      "metadata": {
        "id": "FRj8ld7MSGzJ",
        "colab_type": "code",
        "colab": {
          "base_uri": "https://localhost:8080/",
          "height": 289
        },
        "outputId": "fe9c42d7-0a5d-4334-a71c-642f7bfd7ba4"
      },
      "source": [
        "active.nunique()"
      ],
      "execution_count": 61,
      "outputs": [
        {
          "output_type": "execute_result",
          "data": {
            "text/plain": [
              "presentation_style      2\n",
              "location                6\n",
              "last_attend             2\n",
              "openhack_knowledge      2\n",
              "interested_topics      46\n",
              "new_to_python           2\n",
              "howcanwehelp            6\n",
              "inclusive               1\n",
              "inclusivity             3\n",
              "more_inclusive?        15\n",
              "open_and_welcoming?     2\n",
              "comfortable             2\n",
              "present?                2\n",
              "openhack_attend?        3\n",
              "howimprovediversity    13\n",
              "dtype: int64"
            ]
          },
          "metadata": {
            "tags": []
          },
          "execution_count": 61
        }
      ]
    },
    {
      "cell_type": "code",
      "metadata": {
        "id": "Rwyc2u9JW9Hn",
        "colab_type": "code",
        "colab": {
          "base_uri": "https://localhost:8080/",
          "height": 816
        },
        "outputId": "eb279133-650f-49d8-c67c-65bddabc1570"
      },
      "source": [
        "active.interested_topics"
      ],
      "execution_count": 78,
      "outputs": [
        {
          "output_type": "execute_result",
          "data": {
            "text/plain": [
              "1     Data and Analytics (Pandas, Numpy, Data Scienc...\n",
              "3     Web Development (Django, Flask, Sanic, ...), M...\n",
              "4     GUI (Qt, WxWindows, GTK, Kivy ...), Data and A...\n",
              "5           Web Development (Django, Flask, Sanic, ...)\n",
              "6     Python Basics, Standard Library, Built-ins and...\n",
              "7     Python Basics, Standard Library, Built-ins and...\n",
              "9     Python Basics, Standard Library, Built-ins and...\n",
              "10    Python Basics, Standard Library, Built-ins and...\n",
              "13    Data and Analytics (Pandas, Numpy, Data Scienc...\n",
              "15    Web Development (Django, Flask, Sanic, ...), G...\n",
              "16    Data and Analytics (Pandas, Numpy, Data Scienc...\n",
              "17    GUI (Qt, WxWindows, GTK, Kivy ...), Data and A...\n",
              "21    Python Basics, Standard Library, Built-ins and...\n",
              "24    Python Basics, Standard Library, Built-ins and...\n",
              "25    Python Basics, Standard Library, Built-ins and...\n",
              "30    Python Basics, Standard Library, Built-ins and...\n",
              "31    Web Development (Django, Flask, Sanic, ...), C...\n",
              "33    Data and Analytics (Pandas, Numpy, Data Scienc...\n",
              "34    Python Basics, Standard Library, Built-ins and...\n",
              "36    Data and Analytics (Pandas, Numpy, Data Scienc...\n",
              "37    Web Development (Django, Flask, Sanic, ...), D...\n",
              "39    Data and Analytics (Pandas, Numpy, Data Scienc...\n",
              "41    Python Basics, Standard Library, Built-ins and...\n",
              "42    Python Basics, Standard Library, Built-ins and...\n",
              "43    Python Basics, Standard Library, Built-ins and...\n",
              "44    Data and Analytics (Pandas, Numpy, Data Scienc...\n",
              "45    Web Development (Django, Flask, Sanic, ...), G...\n",
              "46    GUI (Qt, WxWindows, GTK, Kivy ...), Data and A...\n",
              "49    Web Development (Django, Flask, Sanic, ...), D...\n",
              "50    Python Basics, Standard Library, Built-ins and...\n",
              "56    Python Basics, Standard Library, Built-ins and...\n",
              "60    Python Basics, Standard Library, Built-ins and...\n",
              "63    Python Basics, Standard Library, Built-ins and...\n",
              "66    Python Basics, Standard Library, Built-ins and...\n",
              "67    Data and Analytics (Pandas, Numpy, Data Scienc...\n",
              "70    Web Development (Django, Flask, Sanic, ...), G...\n",
              "71    Python Basics, Standard Library, Built-ins and...\n",
              "75    Data and Analytics (Pandas, Numpy, Data Scienc...\n",
              "77    Python Basics, Standard Library, Built-ins and...\n",
              "78    Web Development (Django, Flask, Sanic, ...), F...\n",
              "86    Python Basics, Standard Library, Built-ins and...\n",
              "91    Web Development (Django, Flask, Sanic, ...), G...\n",
              "93    Python Basics, Standard Library, Built-ins and...\n",
              "94    Python Basics, Standard Library, Built-ins and...\n",
              "96    Data and Analytics (Pandas, Numpy, Data Scienc...\n",
              "97    Python Basics, Standard Library, Built-ins and...\n",
              "Name: interested_topics, dtype: object"
            ]
          },
          "metadata": {
            "tags": []
          },
          "execution_count": 78
        }
      ]
    },
    {
      "cell_type": "code",
      "metadata": {
        "id": "1NI6JUQpWc1N",
        "colab_type": "code",
        "colab": {
          "base_uri": "https://localhost:8080/",
          "height": 371
        },
        "outputId": "f6938b78-1e7b-4b69-a783-b2d90620b0fa"
      },
      "source": [
        "active.location.value_counts().plot(kind='bar')"
      ],
      "execution_count": 74,
      "outputs": [
        {
          "output_type": "execute_result",
          "data": {
            "text/plain": [
              "<matplotlib.axes._subplots.AxesSubplot at 0x7fa020225dd8>"
            ]
          },
          "metadata": {
            "tags": []
          },
          "execution_count": 74
        },
        {
          "output_type": "display_data",
          "data": {
            "image/png": "[encoded data removed]",
            "text/plain": [
              "<Figure size 432x288 with 1 Axes>"
            ]
          },
          "metadata": {
            "tags": []
          }
        }
      ]
    },
    {
      "cell_type": "code",
      "metadata": {
        "id": "xSd3LS5uWqxj",
        "colab_type": "code",
        "colab": {
          "base_uri": "https://localhost:8080/",
          "height": 293
        },
        "outputId": "b512727c-037a-4c42-c858-2dc9ff121eef"
      },
      "source": [
        "active.new_to_python.value_counts().plot(kind='bar')"
      ],
      "execution_count": 77,
      "outputs": [
        {
          "output_type": "execute_result",
          "data": {
            "text/plain": [
              "<matplotlib.axes._subplots.AxesSubplot at 0x7fa02017b320>"
            ]
          },
          "metadata": {
            "tags": []
          },
          "execution_count": 77
        },
        {
          "output_type": "display_data",
          "data": {
            "image/png": "[encoded data removed]",
            "text/plain": [
              "<Figure size 432x288 with 1 Axes>"
            ]
          },
          "metadata": {
            "tags": []
          }
        }
      ]
    },
    {
      "cell_type": "code",
      "metadata": {
        "id": "fZMbu_iUUKid",
        "colab_type": "code",
        "colab": {
          "base_uri": "https://localhost:8080/",
          "height": 364
        },
        "outputId": "3e01f3f9-13fc-4a1a-9f12-3ca0108396ab"
      },
      "source": [
        "active['presentation_style'].value_counts().plot(kind='bar', title='active member meeting preference', rot=90)"
      ],
      "execution_count": 68,
      "outputs": [
        {
          "output_type": "execute_result",
          "data": {
            "text/plain": [
              "<matplotlib.axes._subplots.AxesSubplot at 0x7fa020349ba8>"
            ]
          },
          "metadata": {
            "tags": []
          },
          "execution_count": 68
        },
        {
          "output_type": "display_data",
          "data": {
            "image/png": "[encoded data removed]",
            "text/plain": [
              "<Figure size 432x288 with 1 Axes>"
            ]
          },
          "metadata": {
            "tags": []
          }
        }
      ]
    },
    {
      "cell_type": "code",
      "metadata": {
        "id": "931hWd-OSUM9",
        "colab_type": "code",
        "colab": {
          "base_uri": "https://localhost:8080/",
          "height": 364
        },
        "outputId": "65ba2ad1-5ad9-492d-ce41-aad2f2d073cb"
      },
      "source": [
        "inactive['presentation_style'].value_counts().plot(kind='bar', title='inactive member meeting preference', rot=90)"
      ],
      "execution_count": 67,
      "outputs": [
        {
          "output_type": "execute_result",
          "data": {
            "text/plain": [
              "<matplotlib.axes._subplots.AxesSubplot at 0x7fa0203d3e48>"
            ]
          },
          "metadata": {
            "tags": []
          },
          "execution_count": 67
        },
        {
          "output_type": "display_data",
          "data": {
            "image/png": "[encoded data removed]",
            "text/plain": [
              "<Figure size 432x288 with 1 Axes>"
            ]
          },
          "metadata": {
            "tags": []
          }
        }
      ]
    },
    {
      "cell_type": "markdown",
      "metadata": {
        "id": "THpFmZZKjUD8",
        "colab_type": "text"
      },
      "source": [
        "# Segement the Results\n",
        "\n",
        "- New and Not-New Users of Python\n",
        "- Attendance Frequencies\n",
        "- ..."
      ]
    },
    {
      "cell_type": "code",
      "metadata": {
        "id": "mMpUtWUkj7vi",
        "colab_type": "code",
        "outputId": "a0c3889b-c3fe-4480-913f-8db3da77255a",
        "colab": {
          "base_uri": "https://localhost:8080/",
          "height": 119
        }
      },
      "source": [
        "df[\"last_attend\"].value_counts(dropna=False)"
      ],
      "execution_count": 15,
      "outputs": [
        {
          "output_type": "execute_result",
          "data": {
            "text/plain": [
              "Never              31\n",
              "1 to 3 months      28\n",
              "3 to 6 months      18\n",
              "Over 1 year ago    11\n",
              "6 to 12 months     11\n",
              "Name: When was the last time you attended a DesertPy Meetup?, dtype: int64"
            ]
          },
          "metadata": {
            "tags": []
          },
          "execution_count": 15
        }
      ]
    },
    {
      "cell_type": "code",
      "metadata": {
        "id": "3yhXv8Oyiqpp",
        "colab_type": "code",
        "colab": {}
      },
      "source": [
        "new_users = df[df['Are you new to Python?'] == \"Yes\"]\n",
        "non_new_users = df[df['Are you new to Python?'] == \"No\"]\n",
        "\n",
        "attend_1_to_3_mo = df[df[\"last_attend\"] == \"1 to 3 months\"]\n",
        "attend_3_to_6_mo = df[df[\"last_attend\"] == \"3 to 6 months\"]\n",
        "attend_6_to_12_mo = df[df[\"last_attend\"] == \"6 to 12 months \"]\n",
        "attend_12plus_mo = df[df[\"last_attend\"] == \"Over 1 year ago\"]\n",
        "attend_never = df[df[\"last_attend\"] == \"Never\"]"
      ],
      "execution_count": 0,
      "outputs": []
    },
    {
      "cell_type": "markdown",
      "metadata": {
        "id": "mNAXGIisg7AE",
        "colab_type": "text"
      },
      "source": [
        ""
      ]
    },
    {
      "cell_type": "code",
      "metadata": {
        "id": "oJgwM-M_lOIU",
        "colab_type": "code",
        "outputId": "9320ed97-8f7b-46a1-fb1b-f3a236ff9240",
        "colab": {
          "base_uri": "https://localhost:8080/",
          "height": 85
        }
      },
      "source": [
        "df.groupby('Are you new to Python?')[\"Do you know about the the Saturday morning OpenHacks?\"].count()"
      ],
      "execution_count": 0,
      "outputs": [
        {
          "output_type": "execute_result",
          "data": {
            "text/plain": [
              "Are you new to Python?\n",
              "No     62\n",
              "Yes    37\n",
              "Name: Do you know about the the Saturday morning OpenHacks?, dtype: int64"
            ]
          },
          "metadata": {
            "tags": []
          },
          "execution_count": 26
        }
      ]
    },
    {
      "cell_type": "code",
      "metadata": {
        "id": "sRSnGFColOKx",
        "colab_type": "code",
        "colab": {}
      },
      "source": [
        ""
      ],
      "execution_count": 0,
      "outputs": []
    },
    {
      "cell_type": "code",
      "metadata": {
        "id": "10vVw6JglONi",
        "colab_type": "code",
        "colab": {}
      },
      "source": [
        "d"
      ],
      "execution_count": 0,
      "outputs": []
    },
    {
      "cell_type": "code",
      "metadata": {
        "id": "l-U_iNwzlOQA",
        "colab_type": "code",
        "colab": {}
      },
      "source": [
        ""
      ],
      "execution_count": 0,
      "outputs": []
    }
  ]
}